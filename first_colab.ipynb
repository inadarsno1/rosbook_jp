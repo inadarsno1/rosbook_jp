{
  "nbformat": 4,
  "nbformat_minor": 0,
  "metadata": {
    "colab": {
      "provenance": [],
      "authorship_tag": "ABX9TyObAM49jN9O06uxZcyY9Ekq",
      "include_colab_link": true
    },
    "kernelspec": {
      "name": "python3",
      "display_name": "Python 3"
    },
    "language_info": {
      "name": "python"
    }
  },
  "cells": [
    {
      "cell_type": "markdown",
      "metadata": {
        "id": "view-in-github",
        "colab_type": "text"
      },
      "source": [
        "<a href=\"https://colab.research.google.com/github/inadarsno1/rosbook_jp/blob/master/first_colab.ipynb\" target=\"_parent\"><img src=\"https://colab.research.google.com/assets/colab-badge.svg\" alt=\"Open In Colab\"/></a>"
      ]
    },
    {
      "cell_type": "code",
      "execution_count": 1,
      "metadata": {
        "colab": {
          "base_uri": "https://localhost:8080/"
        },
        "id": "XY0fJaGYk4PY",
        "outputId": "3f0c414c-7633-4744-c965-19bb33949a19"
      },
      "outputs": [
        {
          "output_type": "stream",
          "name": "stdout",
          "text": [
            "Hello World\n"
          ]
        }
      ],
      "source": [
        "print(\"Hello World\")"
      ]
    },
    {
      "cell_type": "code",
      "source": [
        "a = 3\n",
        "b = 4\n",
        "print(a + b)"
      ],
      "metadata": {
        "colab": {
          "base_uri": "https://localhost:8080/"
        },
        "id": "k2PPr7q_nBUj",
        "outputId": "5547b600-2ce0-4630-8093-7699f12d7130"
      },
      "execution_count": 2,
      "outputs": [
        {
          "output_type": "stream",
          "name": "stdout",
          "text": [
            "7\n"
          ]
        }
      ]
    },
    {
      "cell_type": "markdown",
      "source": [
        "**python**で*人口知能*のコードを書いていきましょう。  \n",
        "Colabにはコードセルとテキストセルがあります。\n",
        "\n",
        "1.   リスト項目\n",
        "2.   リスト項目\n",
        "3. 番号付きの箇条書きです\n",
        "\n",
        "\n",
        "\n",
        "*   リスト項目\n",
        "*   リスト項目\n",
        "\n",
        "*   [Google検索](https://google.com)\n",
        "\n",
        "\n",
        "\n"
      ],
      "metadata": {
        "id": "Z6a9MKJRnJFe"
      }
    }
  ]
}